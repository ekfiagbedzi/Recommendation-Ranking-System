{
 "cells": [
  {
   "cell_type": "code",
   "execution_count": 1,
   "metadata": {},
   "outputs": [],
   "source": [
    "# import libraries\n",
    "from utils.helpers import get_element, flatten_array, convert_arrays_to_columns\n",
    "\n",
    "import numpy as np\n",
    "import pandas as pd\n",
    "\n",
    "from sklearn import metrics\n",
    "from sklearn.model_selection import train_test_split\n",
    "from sklearn.ensemble import RandomForestClassifier\n",
    "from sklearn.preprocessing import LabelEncoder, FunctionTransformer\n",
    "from sklearn.pipeline import make_pipeline"
   ]
  },
  {
   "cell_type": "code",
   "execution_count": 2,
   "metadata": {},
   "outputs": [],
   "source": [
    "# instatiate models and transformers\n",
    "le = LabelEncoder()\n",
    "ft1 = FunctionTransformer(flatten_array)\n",
    "ft2 = FunctionTransformer(convert_arrays_to_columns)\n",
    "clf = RandomForestClassifier()"
   ]
  },
  {
   "cell_type": "code",
   "execution_count": 3,
   "metadata": {},
   "outputs": [
    {
     "data": {
      "text/html": [
       "<div>\n",
       "<style scoped>\n",
       "    .dataframe tbody tr th:only-of-type {\n",
       "        vertical-align: middle;\n",
       "    }\n",
       "\n",
       "    .dataframe tbody tr th {\n",
       "        vertical-align: top;\n",
       "    }\n",
       "\n",
       "    .dataframe thead th {\n",
       "        text-align: right;\n",
       "    }\n",
       "</style>\n",
       "<table border=\"1\" class=\"dataframe\">\n",
       "  <thead>\n",
       "    <tr style=\"text-align: right;\">\n",
       "      <th></th>\n",
       "      <th>id</th>\n",
       "      <th>product_name</th>\n",
       "      <th>category</th>\n",
       "      <th>product_description</th>\n",
       "      <th>price</th>\n",
       "      <th>location</th>\n",
       "      <th>create_time</th>\n",
       "      <th>image_array</th>\n",
       "    </tr>\n",
       "  </thead>\n",
       "  <tbody>\n",
       "    <tr>\n",
       "      <th>0</th>\n",
       "      <td>f1841e02-886a-4994-8455-a152edeecbe8</td>\n",
       "      <td>Nintendo Switch - Red Edition | in Mickleover,...</td>\n",
       "      <td>Video Games &amp; Consoles / Games</td>\n",
       "      <td>No box - good working condition Carry case and...</td>\n",
       "      <td>170.0</td>\n",
       "      <td>Mickleover, Derbyshire</td>\n",
       "      <td>2022-02-28</td>\n",
       "      <td>[[[234, 233, 231], [253, 251, 252], [250, 248,...</td>\n",
       "    </tr>\n",
       "    <tr>\n",
       "      <th>1</th>\n",
       "      <td>a57eceae-2949-4a08-aba7-95d2b4fcf925</td>\n",
       "      <td>Sofa | in Sauchie, Clackmannanshire | Gumtree</td>\n",
       "      <td>Home &amp; Garden / Dining, Living Room Furniture ...</td>\n",
       "      <td>Like new! Next ‘Lilly’ sofa with armchair. Nav...</td>\n",
       "      <td>800.0</td>\n",
       "      <td>Sauchie, Clackmannanshire</td>\n",
       "      <td>2022-02-26</td>\n",
       "      <td>[[[216, 211, 205], [206, 201, 195], [235, 230,...</td>\n",
       "    </tr>\n",
       "    <tr>\n",
       "      <th>2</th>\n",
       "      <td>352c55c0-f7b3-4dc1-8d1e-d81243555839</td>\n",
       "      <td>Self propelled wheelchair. | in Norwich, Norfo...</td>\n",
       "      <td>Health &amp; Beauty / Mobility, Disability &amp; Medical</td>\n",
       "      <td>Good condition self propell wheelchair. Viewin...</td>\n",
       "      <td>70.0</td>\n",
       "      <td>Norwich, Norfolk</td>\n",
       "      <td>2022-02-27</td>\n",
       "      <td>[[[191, 126, 42], [183, 124, 48], [175, 121, 6...</td>\n",
       "    </tr>\n",
       "    <tr>\n",
       "      <th>3</th>\n",
       "      <td>80e3b95a-17b5-4406-bba1-2ec27f8b6152</td>\n",
       "      <td>Laptop Toshiba satellite c660 | in Peterhead, ...</td>\n",
       "      <td>Computers &amp; Software / Computers, Laptops &amp; Ne...</td>\n",
       "      <td>Windows 10\\r Processor Intel core i3 2gen, @2....</td>\n",
       "      <td>60.0</td>\n",
       "      <td>Peterhead, Aberdeenshire</td>\n",
       "      <td>2022-02-27</td>\n",
       "      <td>[[[173, 146, 103], [100, 75, 35], [72, 48, 14]...</td>\n",
       "    </tr>\n",
       "    <tr>\n",
       "      <th>4</th>\n",
       "      <td>a4448165-d5cf-48cb-b610-8f685b055ead</td>\n",
       "      <td>Barman costume | in Earley, Berkshire | Gumtree</td>\n",
       "      <td>Clothes, Footwear &amp; Accessories / Men's Clothi...</td>\n",
       "      <td>Kids costume, used but not many times. Grew ou...</td>\n",
       "      <td>5.0</td>\n",
       "      <td>Earley, Berkshire</td>\n",
       "      <td>2022-02-26</td>\n",
       "      <td>[[[199, 192, 174], [191, 184, 166], [209, 201,...</td>\n",
       "    </tr>\n",
       "    <tr>\n",
       "      <th>...</th>\n",
       "      <td>...</td>\n",
       "      <td>...</td>\n",
       "      <td>...</td>\n",
       "      <td>...</td>\n",
       "      <td>...</td>\n",
       "      <td>...</td>\n",
       "      <td>...</td>\n",
       "      <td>...</td>\n",
       "    </tr>\n",
       "    <tr>\n",
       "      <th>11099</th>\n",
       "      <td>0a2d446d-f9ac-4715-992d-1bb30017e44d</td>\n",
       "      <td>Vintage Red / Burgundy Leather Chesterfield St...</td>\n",
       "      <td>Office Furniture &amp; Equipment / Office Furnitur...</td>\n",
       "      <td>Vintage red leather Chesterfield style captain...</td>\n",
       "      <td>375.0</td>\n",
       "      <td>Hexham, Northumberland</td>\n",
       "      <td>2022-02-27</td>\n",
       "      <td>[[[136, 161, 157], [108, 133, 129], [104, 129,...</td>\n",
       "    </tr>\n",
       "    <tr>\n",
       "      <th>11100</th>\n",
       "      <td>39758944-624e-4e7b-ac47-7d95ec6da63c</td>\n",
       "      <td>1981 new pence 2p piece | in Exmouth, Devon | ...</td>\n",
       "      <td>Other Goods / Hobbies, Interests &amp; Collectibles</td>\n",
       "      <td>Good condition has copper oxidisation on it ca...</td>\n",
       "      <td>200.0</td>\n",
       "      <td>Exmouth, Devon</td>\n",
       "      <td>2022-02-27</td>\n",
       "      <td>[[[115, 117, 106], [121, 122, 114], [124, 126,...</td>\n",
       "    </tr>\n",
       "    <tr>\n",
       "      <th>11101</th>\n",
       "      <td>98b6bc0f-ac3c-4979-bce5-bb048346df63</td>\n",
       "      <td>JOB LOT Children and ladies BOOTS AND SHOES. |...</td>\n",
       "      <td>Baby &amp; Kids Stuff / Kids Clothes, Shoes &amp; Acce...</td>\n",
       "      <td>Over 60 pairs of shoes and boots for children ...</td>\n",
       "      <td>350.0</td>\n",
       "      <td>Catterick Garrison, North Yorkshire</td>\n",
       "      <td>2022-02-26</td>\n",
       "      <td>[[[2, 6, 7], [16, 20, 21], [6, 8, 7], [9, 11, ...</td>\n",
       "    </tr>\n",
       "    <tr>\n",
       "      <th>11102</th>\n",
       "      <td>c9465549-737b-4043-a018-19a2ec5c10e1</td>\n",
       "      <td>Orla Kiely Large Footstool | in East London, L...</td>\n",
       "      <td>Home &amp; Garden / Dining, Living Room Furniture ...</td>\n",
       "      <td>This is a Laura Ashley large footstool that ha...</td>\n",
       "      <td>135.0</td>\n",
       "      <td>East London, London</td>\n",
       "      <td>2022-02-26</td>\n",
       "      <td>[[[192, 200, 203], [222, 230, 233], [214, 224,...</td>\n",
       "    </tr>\n",
       "    <tr>\n",
       "      <th>11103</th>\n",
       "      <td>23ec9935-fa30-40e7-867a-1ff1aad9a711</td>\n",
       "      <td>Premium 6 door Japan fridge | in London | Gumtree</td>\n",
       "      <td>Appliances / Fridge Freezers</td>\n",
       "      <td>Full flat glass design with inverter and stora...</td>\n",
       "      <td>300.0</td>\n",
       "      <td>London</td>\n",
       "      <td>2022-02-27</td>\n",
       "      <td>[[[157, 153, 144], [135, 131, 122], [112, 109,...</td>\n",
       "    </tr>\n",
       "  </tbody>\n",
       "</table>\n",
       "<p>11104 rows × 8 columns</p>\n",
       "</div>"
      ],
      "text/plain": [
       "                                         id  ...                                        image_array\n",
       "0      f1841e02-886a-4994-8455-a152edeecbe8  ...  [[[234, 233, 231], [253, 251, 252], [250, 248,...\n",
       "1      a57eceae-2949-4a08-aba7-95d2b4fcf925  ...  [[[216, 211, 205], [206, 201, 195], [235, 230,...\n",
       "2      352c55c0-f7b3-4dc1-8d1e-d81243555839  ...  [[[191, 126, 42], [183, 124, 48], [175, 121, 6...\n",
       "3      80e3b95a-17b5-4406-bba1-2ec27f8b6152  ...  [[[173, 146, 103], [100, 75, 35], [72, 48, 14]...\n",
       "4      a4448165-d5cf-48cb-b610-8f685b055ead  ...  [[[199, 192, 174], [191, 184, 166], [209, 201,...\n",
       "...                                     ...  ...                                                ...\n",
       "11099  0a2d446d-f9ac-4715-992d-1bb30017e44d  ...  [[[136, 161, 157], [108, 133, 129], [104, 129,...\n",
       "11100  39758944-624e-4e7b-ac47-7d95ec6da63c  ...  [[[115, 117, 106], [121, 122, 114], [124, 126,...\n",
       "11101  98b6bc0f-ac3c-4979-bce5-bb048346df63  ...  [[[2, 6, 7], [16, 20, 21], [6, 8, 7], [9, 11, ...\n",
       "11102  c9465549-737b-4043-a018-19a2ec5c10e1  ...  [[[192, 200, 203], [222, 230, 233], [214, 224,...\n",
       "11103  23ec9935-fa30-40e7-867a-1ff1aad9a711  ...  [[[157, 153, 144], [135, 131, 122], [112, 109,...\n",
       "\n",
       "[11104 rows x 8 columns]"
      ]
     },
     "execution_count": 3,
     "metadata": {},
     "output_type": "execute_result"
    }
   ],
   "source": [
    "# import data\n",
    "data = pd.read_pickle(\"image_pr.pkl\")\n",
    "data"
   ]
  },
  {
   "cell_type": "code",
   "execution_count": 4,
   "metadata": {},
   "outputs": [
    {
     "name": "stdout",
     "output_type": "stream",
     "text": [
      "Feature Matrix\n",
      " 0    [[[234, 233, 231], [253, 251, 252], [250, 248,...\n",
      "1    [[[216, 211, 205], [206, 201, 195], [235, 230,...\n",
      "2    [[[191, 126, 42], [183, 124, 48], [175, 121, 6...\n",
      "3    [[[173, 146, 103], [100, 75, 35], [72, 48, 14]...\n",
      "4    [[[199, 192, 174], [191, 184, 166], [209, 201,...\n",
      "Name: image_array, dtype: object\n",
      "Response Vector\n",
      " [12  6  5  3  2]\n"
     ]
    }
   ],
   "source": [
    "# set feature matrix X and response vector y\n",
    "X = data.image_array\n",
    "y = le.fit_transform(\n",
    "        data.category.str.split(\"/\").apply(get_element, position=0))\n",
    "\n",
    "# glance of the data before split\n",
    "print(\"Feature Matrix\\n\", X.head())\n",
    "print(\"Response Vector\\n\", y[0:5])"
   ]
  },
  {
   "cell_type": "code",
   "execution_count": 5,
   "metadata": {},
   "outputs": [
    {
     "name": "stdout",
     "output_type": "stream",
     "text": [
      "Training input shape (7772,)\n",
      "Training target shape (7772,)\n",
      "Testing input shape (3332,)\n",
      "Testing target shape (3332,)\n"
     ]
    }
   ],
   "source": [
    "# split data into training and testing sets\n",
    "X_train, X_test, y_train, y_test = train_test_split(\n",
    "        X, y, test_size=0.3, random_state=0)\n",
    "\n",
    "print(\"Training input shape\", X_train.shape)\n",
    "print(\"Training target shape\", y_train.shape)\n",
    "print(\"Testing input shape\", X_test.shape)\n",
    "print(\"Testing target shape\", y_test.shape)"
   ]
  },
  {
   "cell_type": "code",
   "execution_count": 6,
   "metadata": {},
   "outputs": [],
   "source": [
    "# make pipeline of transformers and classifier\n",
    "pipe = make_pipeline(ft1, ft2, clf)"
   ]
  },
  {
   "cell_type": "code",
   "execution_count": 7,
   "metadata": {},
   "outputs": [
    {
     "data": {
      "text/html": [
       "<style>#sk-container-id-1 {color: black;background-color: white;}#sk-container-id-1 pre{padding: 0;}#sk-container-id-1 div.sk-toggleable {background-color: white;}#sk-container-id-1 label.sk-toggleable__label {cursor: pointer;display: block;width: 100%;margin-bottom: 0;padding: 0.3em;box-sizing: border-box;text-align: center;}#sk-container-id-1 label.sk-toggleable__label-arrow:before {content: \"▸\";float: left;margin-right: 0.25em;color: #696969;}#sk-container-id-1 label.sk-toggleable__label-arrow:hover:before {color: black;}#sk-container-id-1 div.sk-estimator:hover label.sk-toggleable__label-arrow:before {color: black;}#sk-container-id-1 div.sk-toggleable__content {max-height: 0;max-width: 0;overflow: hidden;text-align: left;background-color: #f0f8ff;}#sk-container-id-1 div.sk-toggleable__content pre {margin: 0.2em;color: black;border-radius: 0.25em;background-color: #f0f8ff;}#sk-container-id-1 input.sk-toggleable__control:checked~div.sk-toggleable__content {max-height: 200px;max-width: 100%;overflow: auto;}#sk-container-id-1 input.sk-toggleable__control:checked~label.sk-toggleable__label-arrow:before {content: \"▾\";}#sk-container-id-1 div.sk-estimator input.sk-toggleable__control:checked~label.sk-toggleable__label {background-color: #d4ebff;}#sk-container-id-1 div.sk-label input.sk-toggleable__control:checked~label.sk-toggleable__label {background-color: #d4ebff;}#sk-container-id-1 input.sk-hidden--visually {border: 0;clip: rect(1px 1px 1px 1px);clip: rect(1px, 1px, 1px, 1px);height: 1px;margin: -1px;overflow: hidden;padding: 0;position: absolute;width: 1px;}#sk-container-id-1 div.sk-estimator {font-family: monospace;background-color: #f0f8ff;border: 1px dotted black;border-radius: 0.25em;box-sizing: border-box;margin-bottom: 0.5em;}#sk-container-id-1 div.sk-estimator:hover {background-color: #d4ebff;}#sk-container-id-1 div.sk-parallel-item::after {content: \"\";width: 100%;border-bottom: 1px solid gray;flex-grow: 1;}#sk-container-id-1 div.sk-label:hover label.sk-toggleable__label {background-color: #d4ebff;}#sk-container-id-1 div.sk-serial::before {content: \"\";position: absolute;border-left: 1px solid gray;box-sizing: border-box;top: 0;bottom: 0;left: 50%;z-index: 0;}#sk-container-id-1 div.sk-serial {display: flex;flex-direction: column;align-items: center;background-color: white;padding-right: 0.2em;padding-left: 0.2em;position: relative;}#sk-container-id-1 div.sk-item {position: relative;z-index: 1;}#sk-container-id-1 div.sk-parallel {display: flex;align-items: stretch;justify-content: center;background-color: white;position: relative;}#sk-container-id-1 div.sk-item::before, #sk-container-id-1 div.sk-parallel-item::before {content: \"\";position: absolute;border-left: 1px solid gray;box-sizing: border-box;top: 0;bottom: 0;left: 50%;z-index: -1;}#sk-container-id-1 div.sk-parallel-item {display: flex;flex-direction: column;z-index: 1;position: relative;background-color: white;}#sk-container-id-1 div.sk-parallel-item:first-child::after {align-self: flex-end;width: 50%;}#sk-container-id-1 div.sk-parallel-item:last-child::after {align-self: flex-start;width: 50%;}#sk-container-id-1 div.sk-parallel-item:only-child::after {width: 0;}#sk-container-id-1 div.sk-dashed-wrapped {border: 1px dashed gray;margin: 0 0.4em 0.5em 0.4em;box-sizing: border-box;padding-bottom: 0.4em;background-color: white;}#sk-container-id-1 div.sk-label label {font-family: monospace;font-weight: bold;display: inline-block;line-height: 1.2em;}#sk-container-id-1 div.sk-label-container {text-align: center;}#sk-container-id-1 div.sk-container {/* jupyter's `normalize.less` sets `[hidden] { display: none; }` but bootstrap.min.css set `[hidden] { display: none !important; }` so we also need the `!important` here to be able to override the default hidden behavior on the sphinx rendered scikit-learn.org. See: https://github.com/scikit-learn/scikit-learn/issues/21755 */display: inline-block !important;position: relative;}#sk-container-id-1 div.sk-text-repr-fallback {display: none;}</style><div id=\"sk-container-id-1\" class=\"sk-top-container\"><div class=\"sk-text-repr-fallback\"><pre>Pipeline(steps=[(&#x27;functiontransformer-1&#x27;,\n",
       "                 FunctionTransformer(func=&lt;function flatten_array at 0x7f19bd57f010&gt;)),\n",
       "                (&#x27;functiontransformer-2&#x27;,\n",
       "                 FunctionTransformer(func=&lt;function convert_arrays_to_columns at 0x7f19bd57f0a0&gt;)),\n",
       "                (&#x27;randomforestclassifier&#x27;, RandomForestClassifier())])</pre><b>In a Jupyter environment, please rerun this cell to show the HTML representation or trust the notebook. <br />On GitHub, the HTML representation is unable to render, please try loading this page with nbviewer.org.</b></div><div class=\"sk-container\" hidden><div class=\"sk-item sk-dashed-wrapped\"><div class=\"sk-label-container\"><div class=\"sk-label sk-toggleable\"><input class=\"sk-toggleable__control sk-hidden--visually\" id=\"sk-estimator-id-1\" type=\"checkbox\" ><label for=\"sk-estimator-id-1\" class=\"sk-toggleable__label sk-toggleable__label-arrow\">Pipeline</label><div class=\"sk-toggleable__content\"><pre>Pipeline(steps=[(&#x27;functiontransformer-1&#x27;,\n",
       "                 FunctionTransformer(func=&lt;function flatten_array at 0x7f19bd57f010&gt;)),\n",
       "                (&#x27;functiontransformer-2&#x27;,\n",
       "                 FunctionTransformer(func=&lt;function convert_arrays_to_columns at 0x7f19bd57f0a0&gt;)),\n",
       "                (&#x27;randomforestclassifier&#x27;, RandomForestClassifier())])</pre></div></div></div><div class=\"sk-serial\"><div class=\"sk-item\"><div class=\"sk-estimator sk-toggleable\"><input class=\"sk-toggleable__control sk-hidden--visually\" id=\"sk-estimator-id-2\" type=\"checkbox\" ><label for=\"sk-estimator-id-2\" class=\"sk-toggleable__label sk-toggleable__label-arrow\">FunctionTransformer</label><div class=\"sk-toggleable__content\"><pre>FunctionTransformer(func=&lt;function flatten_array at 0x7f19bd57f010&gt;)</pre></div></div></div><div class=\"sk-item\"><div class=\"sk-estimator sk-toggleable\"><input class=\"sk-toggleable__control sk-hidden--visually\" id=\"sk-estimator-id-3\" type=\"checkbox\" ><label for=\"sk-estimator-id-3\" class=\"sk-toggleable__label sk-toggleable__label-arrow\">FunctionTransformer</label><div class=\"sk-toggleable__content\"><pre>FunctionTransformer(func=&lt;function convert_arrays_to_columns at 0x7f19bd57f0a0&gt;)</pre></div></div></div><div class=\"sk-item\"><div class=\"sk-estimator sk-toggleable\"><input class=\"sk-toggleable__control sk-hidden--visually\" id=\"sk-estimator-id-4\" type=\"checkbox\" ><label for=\"sk-estimator-id-4\" class=\"sk-toggleable__label sk-toggleable__label-arrow\">RandomForestClassifier</label><div class=\"sk-toggleable__content\"><pre>RandomForestClassifier()</pre></div></div></div></div></div></div></div>"
      ],
      "text/plain": [
       "Pipeline(steps=[('functiontransformer-1',\n",
       "                 FunctionTransformer(func=<function flatten_array at 0x7f19bd57f010>)),\n",
       "                ('functiontransformer-2',\n",
       "                 FunctionTransformer(func=<function convert_arrays_to_columns at 0x7f19bd57f0a0>)),\n",
       "                ('randomforestclassifier', RandomForestClassifier())])"
      ]
     },
     "execution_count": 7,
     "metadata": {},
     "output_type": "execute_result"
    }
   ],
   "source": [
    "# train the classifier\n",
    "pipe.fit(X_train, y_train)"
   ]
  },
  {
   "cell_type": "code",
   "execution_count": 8,
   "metadata": {},
   "outputs": [
    {
     "data": {
      "text/plain": [
       "0.2034813925570228"
      ]
     },
     "execution_count": 8,
     "metadata": {},
     "output_type": "execute_result"
    }
   ],
   "source": [
    "# make predictions on out of sample data\n",
    "metrics.accuracy_score(y_test, pipe.predict(X_test))"
   ]
  }
 ],
 "metadata": {
  "interpreter": {
   "hash": "109d57801647564d0dfe2deab53127a41db6da85ea6f753afa884355a0a95922"
  },
  "kernelspec": {
   "display_name": "Python 3.8.10 ('recommendation')",
   "language": "python",
   "name": "python3"
  },
  "language_info": {
   "codemirror_mode": {
    "name": "ipython",
    "version": 3
   },
   "file_extension": ".py",
   "mimetype": "text/x-python",
   "name": "python",
   "nbconvert_exporter": "python",
   "pygments_lexer": "ipython3",
   "version": "3.8.10"
  },
  "orig_nbformat": 4
 },
 "nbformat": 4,
 "nbformat_minor": 2
}
