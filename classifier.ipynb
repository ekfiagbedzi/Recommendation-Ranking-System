{
 "cells": [
  {
   "cell_type": "code",
   "execution_count": 1,
   "metadata": {},
   "outputs": [],
   "source": [
    "# import libraries\n",
    "from utils.helpers import get_element, flatten_array\n",
    "\n",
    "import numpy as np\n",
    "import pandas as pd\n",
    "\n",
    "from sklearn.model_selection import train_test_split\n",
    "from sklearn.ensemble import RandomForestClassifier\n",
    "from sklearn.preprocessing import LabelEncoder, FunctionTransformer\n",
    "from sklearn.compose import make_column_transformer\n",
    "from sklearn.pipeline import make_pipeline"
   ]
  },
  {
   "cell_type": "code",
   "execution_count": 2,
   "metadata": {},
   "outputs": [],
   "source": [
    "# instatiate models and transformers\n",
    "le = LabelEncoder()\n",
    "clf = RandomForestClassifier()"
   ]
  },
  {
   "cell_type": "code",
   "execution_count": 3,
   "metadata": {},
   "outputs": [
    {
     "data": {
      "text/html": [
       "<div>\n",
       "<style scoped>\n",
       "    .dataframe tbody tr th:only-of-type {\n",
       "        vertical-align: middle;\n",
       "    }\n",
       "\n",
       "    .dataframe tbody tr th {\n",
       "        vertical-align: top;\n",
       "    }\n",
       "\n",
       "    .dataframe thead th {\n",
       "        text-align: right;\n",
       "    }\n",
       "</style>\n",
       "<table border=\"1\" class=\"dataframe\">\n",
       "  <thead>\n",
       "    <tr style=\"text-align: right;\">\n",
       "      <th></th>\n",
       "      <th>id</th>\n",
       "      <th>product_name</th>\n",
       "      <th>category</th>\n",
       "      <th>product_description</th>\n",
       "      <th>price</th>\n",
       "      <th>location</th>\n",
       "      <th>create_time</th>\n",
       "      <th>image_array</th>\n",
       "    </tr>\n",
       "  </thead>\n",
       "  <tbody>\n",
       "    <tr>\n",
       "      <th>0</th>\n",
       "      <td>7cdb36be-888e-4dc8-81ed-0b98e9e6a1c9</td>\n",
       "      <td>LUSH 1.6-1.8m Kentia palm 🌴 Indoor plant | in ...</td>\n",
       "      <td>Home &amp; Garden / Garden &amp; Patio / Garden Buildi...</td>\n",
       "      <td>LUSH 1.6-1.8m Kentia palm 🌴 Indoor plant\\r Lus...</td>\n",
       "      <td>75.00</td>\n",
       "      <td>Kennington, London</td>\n",
       "      <td>2022-02-26</td>\n",
       "      <td>[[[144, 120, 82], [145, 123, 86], [149, 131, 9...</td>\n",
       "    </tr>\n",
       "    <tr>\n",
       "      <th>1</th>\n",
       "      <td>369cbb17-75f4-43a3-9f67-cce821f0ed5e</td>\n",
       "      <td>Genuine Xiaomi Redmi Power Bank 10000-mAh 2.4A...</td>\n",
       "      <td>Phones, Mobile Phones &amp; Telecoms / Mobile Phon...</td>\n",
       "      <td>Xiaomi Redmi Power Bank 10000 mAh - WhiteMicro...</td>\n",
       "      <td>25.00</td>\n",
       "      <td>Watford, Hertfordshire</td>\n",
       "      <td>2022-02-27</td>\n",
       "      <td>[[[125, 136, 132], [141, 150, 145], [145, 148,...</td>\n",
       "    </tr>\n",
       "    <tr>\n",
       "      <th>2</th>\n",
       "      <td>0f80c7cf-4c45-47df-a00d-0be822506933</td>\n",
       "      <td>Mamas and Papas Kato 2 pushchair | in Swindon,...</td>\n",
       "      <td>Baby &amp; Kids Stuff / Prams &amp; Strollers</td>\n",
       "      <td>Pushchair c/w rain cover. Small hole in hood s...</td>\n",
       "      <td>20.00</td>\n",
       "      <td>Swindon, Wiltshire</td>\n",
       "      <td>2022-02-26</td>\n",
       "      <td>[[[171, 169, 157], [163, 161, 149], [155, 153,...</td>\n",
       "    </tr>\n",
       "    <tr>\n",
       "      <th>3</th>\n",
       "      <td>a5886822-a581-4ab3-9efc-959d1b58f3a8</td>\n",
       "      <td>Air Jordan 4 Retro 'Taupe Haze' Size UK 6.5 - ...</td>\n",
       "      <td>Clothes, Footwear &amp; Accessories / Men's Shoes ...</td>\n",
       "      <td>Bought these couple weeks ago but I want to ge...</td>\n",
       "      <td>290.00</td>\n",
       "      <td>Kettering, Northamptonshire</td>\n",
       "      <td>2022-02-26</td>\n",
       "      <td>[[[179, 137, 121], [176, 139, 120], [172, 141,...</td>\n",
       "    </tr>\n",
       "    <tr>\n",
       "      <th>4</th>\n",
       "      <td>4a877282-182e-47f5-b4b6-24f0a88ab5fd</td>\n",
       "      <td>Sony PlayStation 3 Slim Console 320GB Black | ...</td>\n",
       "      <td>Video Games &amp; Consoles / Consoles / PS3 (Sony ...</td>\n",
       "      <td>Sony PlayStation 3 Slim Console 320GB Black. U...</td>\n",
       "      <td>140.00</td>\n",
       "      <td>Twickenham, London</td>\n",
       "      <td>2022-02-28</td>\n",
       "      <td>[[[160, 164, 147], [152, 159, 141], [192, 199,...</td>\n",
       "    </tr>\n",
       "    <tr>\n",
       "      <th>...</th>\n",
       "      <td>...</td>\n",
       "      <td>...</td>\n",
       "      <td>...</td>\n",
       "      <td>...</td>\n",
       "      <td>...</td>\n",
       "      <td>...</td>\n",
       "      <td>...</td>\n",
       "      <td>...</td>\n",
       "    </tr>\n",
       "    <tr>\n",
       "      <th>11099</th>\n",
       "      <td>39026ffe-9994-4a0f-94a9-5123b3432065</td>\n",
       "      <td>CHEAPEST WARDROBE ==  ALINA BED ROOM SET with ...</td>\n",
       "      <td>Home &amp; Garden / Beds &amp; Bedroom Furniture / War...</td>\n",
       "      <td>More Information 0️⃣2️⃣0️⃣8️⃣0️⃣0️⃣4️⃣7️⃣7️⃣7️...</td>\n",
       "      <td>189.00</td>\n",
       "      <td>Southall, London</td>\n",
       "      <td>2022-02-26</td>\n",
       "      <td>[[[248, 236, 196], [230, 218, 180], [226, 213,...</td>\n",
       "    </tr>\n",
       "    <tr>\n",
       "      <th>11100</th>\n",
       "      <td>2c353fc7-d78a-4b54-bea1-269708511a54</td>\n",
       "      <td>Mobile Catering Trailer | in Northampton, Nort...</td>\n",
       "      <td>Office Furniture &amp; Equipment / Restaurant &amp; Ca...</td>\n",
       "      <td>Great condition catering trailer - newly renov...</td>\n",
       "      <td>6950.00</td>\n",
       "      <td>Northampton, Northamptonshire</td>\n",
       "      <td>2022-02-27</td>\n",
       "      <td>[[[157, 181, 155], [122, 146, 120], [106, 129,...</td>\n",
       "    </tr>\n",
       "    <tr>\n",
       "      <th>11101</th>\n",
       "      <td>bf23f42a-9c32-4dff-ac5c-21ebe29b2a31</td>\n",
       "      <td>Cabinet handles | in East End, Glasgow | Gumtree</td>\n",
       "      <td>DIY Tools &amp; Materials / Doors &amp; Windows</td>\n",
       "      <td>10 x brushed steel cabinet handles plus 6 x hi...</td>\n",
       "      <td>10.00</td>\n",
       "      <td>East End, Glasgow</td>\n",
       "      <td>2022-02-27</td>\n",
       "      <td>[[[181, 172, 165], [182, 173, 166], [185, 176,...</td>\n",
       "    </tr>\n",
       "    <tr>\n",
       "      <th>11102</th>\n",
       "      <td>53b597af-093b-4492-8f15-cd89ea953c49</td>\n",
       "      <td>JINBERYL KIDS BACKPACK GIRLS SCHOOL BAG, FITS ...</td>\n",
       "      <td>Clothes, Footwear &amp; Accessories / Women's Acce...</td>\n",
       "      <td>SOLD OUT ITEM ON AMAZON - 28 AVAILABLE\\r BRAND...</td>\n",
       "      <td>14.99</td>\n",
       "      <td>Bearsden, Glasgow</td>\n",
       "      <td>2022-02-27</td>\n",
       "      <td>[[[240, 255, 251], [237, 255, 247], [239, 255,...</td>\n",
       "    </tr>\n",
       "    <tr>\n",
       "      <th>11103</th>\n",
       "      <td>c9628f58-51b7-45c1-8035-144259302cd7</td>\n",
       "      <td>NEW GREEN TREATED SOFTWOOD RAILWAY SLEEPERS, V...</td>\n",
       "      <td>DIY Tools &amp; Materials / Wood &amp; Timber</td>\n",
       "      <td>NEW GREEN TREATED SOFTWOOD RAILWAY SLEEPERS, V...</td>\n",
       "      <td>28.00</td>\n",
       "      <td>Kings Lynn, Norfolk</td>\n",
       "      <td>2022-02-27</td>\n",
       "      <td>[[[255, 255, 255], [255, 255, 255], [255, 255,...</td>\n",
       "    </tr>\n",
       "  </tbody>\n",
       "</table>\n",
       "<p>11104 rows × 8 columns</p>\n",
       "</div>"
      ],
      "text/plain": [
       "                                         id  \\\n",
       "0      7cdb36be-888e-4dc8-81ed-0b98e9e6a1c9   \n",
       "1      369cbb17-75f4-43a3-9f67-cce821f0ed5e   \n",
       "2      0f80c7cf-4c45-47df-a00d-0be822506933   \n",
       "3      a5886822-a581-4ab3-9efc-959d1b58f3a8   \n",
       "4      4a877282-182e-47f5-b4b6-24f0a88ab5fd   \n",
       "...                                     ...   \n",
       "11099  39026ffe-9994-4a0f-94a9-5123b3432065   \n",
       "11100  2c353fc7-d78a-4b54-bea1-269708511a54   \n",
       "11101  bf23f42a-9c32-4dff-ac5c-21ebe29b2a31   \n",
       "11102  53b597af-093b-4492-8f15-cd89ea953c49   \n",
       "11103  c9628f58-51b7-45c1-8035-144259302cd7   \n",
       "\n",
       "                                            product_name  \\\n",
       "0      LUSH 1.6-1.8m Kentia palm 🌴 Indoor plant | in ...   \n",
       "1      Genuine Xiaomi Redmi Power Bank 10000-mAh 2.4A...   \n",
       "2      Mamas and Papas Kato 2 pushchair | in Swindon,...   \n",
       "3      Air Jordan 4 Retro 'Taupe Haze' Size UK 6.5 - ...   \n",
       "4      Sony PlayStation 3 Slim Console 320GB Black | ...   \n",
       "...                                                  ...   \n",
       "11099  CHEAPEST WARDROBE ==  ALINA BED ROOM SET with ...   \n",
       "11100  Mobile Catering Trailer | in Northampton, Nort...   \n",
       "11101   Cabinet handles | in East End, Glasgow | Gumtree   \n",
       "11102  JINBERYL KIDS BACKPACK GIRLS SCHOOL BAG, FITS ...   \n",
       "11103  NEW GREEN TREATED SOFTWOOD RAILWAY SLEEPERS, V...   \n",
       "\n",
       "                                                category  \\\n",
       "0      Home & Garden / Garden & Patio / Garden Buildi...   \n",
       "1      Phones, Mobile Phones & Telecoms / Mobile Phon...   \n",
       "2                  Baby & Kids Stuff / Prams & Strollers   \n",
       "3      Clothes, Footwear & Accessories / Men's Shoes ...   \n",
       "4      Video Games & Consoles / Consoles / PS3 (Sony ...   \n",
       "...                                                  ...   \n",
       "11099  Home & Garden / Beds & Bedroom Furniture / War...   \n",
       "11100  Office Furniture & Equipment / Restaurant & Ca...   \n",
       "11101            DIY Tools & Materials / Doors & Windows   \n",
       "11102  Clothes, Footwear & Accessories / Women's Acce...   \n",
       "11103              DIY Tools & Materials / Wood & Timber   \n",
       "\n",
       "                                     product_description    price  \\\n",
       "0      LUSH 1.6-1.8m Kentia palm 🌴 Indoor plant\\r Lus...    75.00   \n",
       "1      Xiaomi Redmi Power Bank 10000 mAh - WhiteMicro...    25.00   \n",
       "2      Pushchair c/w rain cover. Small hole in hood s...    20.00   \n",
       "3      Bought these couple weeks ago but I want to ge...   290.00   \n",
       "4      Sony PlayStation 3 Slim Console 320GB Black. U...   140.00   \n",
       "...                                                  ...      ...   \n",
       "11099  More Information 0️⃣2️⃣0️⃣8️⃣0️⃣0️⃣4️⃣7️⃣7️⃣7️...   189.00   \n",
       "11100  Great condition catering trailer - newly renov...  6950.00   \n",
       "11101  10 x brushed steel cabinet handles plus 6 x hi...    10.00   \n",
       "11102  SOLD OUT ITEM ON AMAZON - 28 AVAILABLE\\r BRAND...    14.99   \n",
       "11103  NEW GREEN TREATED SOFTWOOD RAILWAY SLEEPERS, V...    28.00   \n",
       "\n",
       "                            location create_time  \\\n",
       "0                 Kennington, London  2022-02-26   \n",
       "1             Watford, Hertfordshire  2022-02-27   \n",
       "2                 Swindon, Wiltshire  2022-02-26   \n",
       "3        Kettering, Northamptonshire  2022-02-26   \n",
       "4                 Twickenham, London  2022-02-28   \n",
       "...                              ...         ...   \n",
       "11099               Southall, London  2022-02-26   \n",
       "11100  Northampton, Northamptonshire  2022-02-27   \n",
       "11101              East End, Glasgow  2022-02-27   \n",
       "11102              Bearsden, Glasgow  2022-02-27   \n",
       "11103            Kings Lynn, Norfolk  2022-02-27   \n",
       "\n",
       "                                             image_array  \n",
       "0      [[[144, 120, 82], [145, 123, 86], [149, 131, 9...  \n",
       "1      [[[125, 136, 132], [141, 150, 145], [145, 148,...  \n",
       "2      [[[171, 169, 157], [163, 161, 149], [155, 153,...  \n",
       "3      [[[179, 137, 121], [176, 139, 120], [172, 141,...  \n",
       "4      [[[160, 164, 147], [152, 159, 141], [192, 199,...  \n",
       "...                                                  ...  \n",
       "11099  [[[248, 236, 196], [230, 218, 180], [226, 213,...  \n",
       "11100  [[[157, 181, 155], [122, 146, 120], [106, 129,...  \n",
       "11101  [[[181, 172, 165], [182, 173, 166], [185, 176,...  \n",
       "11102  [[[240, 255, 251], [237, 255, 247], [239, 255,...  \n",
       "11103  [[[255, 255, 255], [255, 255, 255], [255, 255,...  \n",
       "\n",
       "[11104 rows x 8 columns]"
      ]
     },
     "execution_count": 3,
     "metadata": {},
     "output_type": "execute_result"
    }
   ],
   "source": [
    "# import data\n",
    "data = pd.read_pickle(\"image_product.pkl\")\n",
    "data"
   ]
  },
  {
   "cell_type": "code",
   "execution_count": 4,
   "metadata": {},
   "outputs": [
    {
     "name": "stdout",
     "output_type": "stream",
     "text": [
      "Feature Matrix\n",
      "                                          image_array\n",
      "0  [[[144, 120, 82], [145, 123, 86], [149, 131, 9...\n",
      "1  [[[125, 136, 132], [141, 150, 145], [145, 148,...\n",
      "2  [[[171, 169, 157], [163, 161, 149], [155, 153,...\n",
      "3  [[[179, 137, 121], [176, 139, 120], [172, 141,...\n",
      "4  [[[160, 164, 147], [152, 159, 141], [192, 199,...\n",
      "Response Vector\n",
      " [ 6 10  1  2 12]\n"
     ]
    }
   ],
   "source": [
    "# set feature matrix X and response vector y\n",
    "X = pd.DataFrame(data.image_array)\n",
    "y = le.fit_transform(\n",
    "        data.category.str.split(\"/\").apply(get_element, position=0))\n",
    "\n",
    "# glance of the data before split\n",
    "print(\"Feature Matrix\\n\", X.head())\n",
    "print(\"Response Vector\\n\", y[0:5])"
   ]
  },
  {
   "cell_type": "code",
   "execution_count": 5,
   "metadata": {},
   "outputs": [
    {
     "name": "stdout",
     "output_type": "stream",
     "text": [
      "Training input shape (7772, 1)\n",
      "Training target shape (7772,)\n",
      "Testing input shape (3332, 1)\n",
      "Testing target shape (3332,)\n"
     ]
    }
   ],
   "source": [
    "# split data into training and testing sets\n",
    "X_train, X_test, y_train, y_test = train_test_split(\n",
    "        X, y, test_size=0.3, random_state=0)\n",
    "\n",
    "print(\"Training input shape\", X_train.shape)\n",
    "print(\"Training target shape\", y_train.shape)\n",
    "print(\"Testing input shape\", X_test.shape)\n",
    "print(\"Testing target shape\", y_test.shape)"
   ]
  },
  {
   "cell_type": "code",
   "execution_count": 6,
   "metadata": {},
   "outputs": [
    {
     "data": {
      "text/plain": [
       "array([144, 120,  82, ...,   0,   0,   0], dtype=uint8)"
      ]
     },
     "execution_count": 6,
     "metadata": {},
     "output_type": "execute_result"
    }
   ],
   "source": [
    "data.image_array[0].flatten()"
   ]
  },
  {
   "cell_type": "code",
   "execution_count": 40,
   "metadata": {},
   "outputs": [],
   "source": [
    "def flatten_array(ser):\n",
    "    new_arr = ser.iloc[0][0].flatten()\n",
    "    for i in ser.values:\n",
    "        new_arr = np.row_stack(i.flatten())\n",
    "    return new_arr"
   ]
  },
  {
   "cell_type": "code",
   "execution_count": 41,
   "metadata": {},
   "outputs": [],
   "source": [
    "aaa = X_train.head()\n",
    "bbb = flatten_array(aaa.image_array)"
   ]
  },
  {
   "cell_type": "code",
   "execution_count": 43,
   "metadata": {},
   "outputs": [
    {
     "data": {
      "text/plain": [
       "array([[255],\n",
       "       [255],\n",
       "       [255],\n",
       "       ...,\n",
       "       [  4],\n",
       "       [  4],\n",
       "       [  4]], dtype=uint8)"
      ]
     },
     "execution_count": 43,
     "metadata": {},
     "output_type": "execute_result"
    }
   ],
   "source": [
    "bbb"
   ]
  },
  {
   "cell_type": "code",
   "execution_count": 36,
   "metadata": {},
   "outputs": [
    {
     "data": {
      "text/plain": [
       "9408"
      ]
     },
     "execution_count": 36,
     "metadata": {},
     "output_type": "execute_result"
    }
   ],
   "source": [
    "sum(X_train.iloc[4].values[0].flatten() == bbb)"
   ]
  },
  {
   "cell_type": "code",
   "execution_count": 133,
   "metadata": {},
   "outputs": [
    {
     "name": "stdout",
     "output_type": "stream",
     "text": [
      "(56, 56, 3)\n",
      "[array([[[20, 18, 21],\n",
      "         [18, 16, 19],\n",
      "         [18, 16, 19],\n",
      "         ...,\n",
      "         [23, 19, 16],\n",
      "         [21, 17, 14],\n",
      "         [22, 18, 15]],\n",
      "\n",
      "        [[21, 19, 22],\n",
      "         [19, 17, 20],\n",
      "         [19, 17, 20],\n",
      "         ...,\n",
      "         [23, 19, 16],\n",
      "         [19, 15, 12],\n",
      "         [18, 14, 11]],\n",
      "\n",
      "        [[17, 15, 18],\n",
      "         [15, 13, 16],\n",
      "         [17, 15, 18],\n",
      "         ...,\n",
      "         [26, 25, 23],\n",
      "         [19, 18, 16],\n",
      "         [17, 16, 14]],\n",
      "\n",
      "        ...,\n",
      "\n",
      "        [[ 0,  0,  0],\n",
      "         [ 0,  0,  0],\n",
      "         [ 0,  0,  0],\n",
      "         ...,\n",
      "         [ 0,  0,  0],\n",
      "         [ 0,  0,  0],\n",
      "         [ 0,  0,  0]],\n",
      "\n",
      "        [[ 0,  0,  0],\n",
      "         [ 0,  0,  0],\n",
      "         [ 0,  0,  0],\n",
      "         ...,\n",
      "         [ 0,  0,  0],\n",
      "         [ 0,  0,  0],\n",
      "         [ 0,  0,  0]],\n",
      "\n",
      "        [[ 0,  0,  0],\n",
      "         [ 0,  0,  0],\n",
      "         [ 0,  0,  0],\n",
      "         ...,\n",
      "         [ 0,  0,  0],\n",
      "         [ 0,  0,  0],\n",
      "         [ 0,  0,  0]]], dtype=uint8)]\n"
     ]
    }
   ],
   "source": [
    "print(aaa[0][0].shape)\n",
    "print(aaa[1])\n",
    "\n",
    "#print(X_train.values[0])"
   ]
  },
  {
   "cell_type": "code",
   "execution_count": null,
   "metadata": {},
   "outputs": [],
   "source": []
  },
  {
   "cell_type": "code",
   "execution_count": 87,
   "metadata": {},
   "outputs": [],
   "source": [
    "ft = FunctionTransformer(flatten_array)"
   ]
  },
  {
   "cell_type": "code",
   "execution_count": 88,
   "metadata": {},
   "outputs": [],
   "source": [
    "# make a column transformer\n",
    "ct = make_column_transformer((ft, [\"image_array\"]))"
   ]
  },
  {
   "cell_type": "code",
   "execution_count": 89,
   "metadata": {},
   "outputs": [
    {
     "ename": "ValueError",
     "evalue": "The output of the 'functiontransformer' transformer should be 2D (scipy matrix, array, or pandas DataFrame).",
     "output_type": "error",
     "traceback": [
      "\u001b[0;31m---------------------------------------------------------------------------\u001b[0m",
      "\u001b[0;31mValueError\u001b[0m                                Traceback (most recent call last)",
      "\u001b[1;32m/home/ubuntu/Recommendation-Ranking-System/classifier.ipynb Cell 9'\u001b[0m in \u001b[0;36m<cell line: 1>\u001b[0;34m()\u001b[0m\n\u001b[0;32m----> <a href='vscode-notebook-cell://ssh-remote%2Baws-server/home/ubuntu/Recommendation-Ranking-System/classifier.ipynb#ch0000018vscode-remote?line=0'>1</a>\u001b[0m ct\u001b[39m.\u001b[39;49mfit_transform(X_train)\n",
      "File \u001b[0;32m~/recommendation/lib/python3.8/site-packages/sklearn/compose/_column_transformer.py:711\u001b[0m, in \u001b[0;36mColumnTransformer.fit_transform\u001b[0;34m(self, X, y)\u001b[0m\n\u001b[1;32m    <a href='file:///home/ubuntu/recommendation/lib/python3.8/site-packages/sklearn/compose/_column_transformer.py?line=707'>708</a>\u001b[0m     \u001b[39mself\u001b[39m\u001b[39m.\u001b[39msparse_output_ \u001b[39m=\u001b[39m \u001b[39mFalse\u001b[39;00m\n\u001b[1;32m    <a href='file:///home/ubuntu/recommendation/lib/python3.8/site-packages/sklearn/compose/_column_transformer.py?line=709'>710</a>\u001b[0m \u001b[39mself\u001b[39m\u001b[39m.\u001b[39m_update_fitted_transformers(transformers)\n\u001b[0;32m--> <a href='file:///home/ubuntu/recommendation/lib/python3.8/site-packages/sklearn/compose/_column_transformer.py?line=710'>711</a>\u001b[0m \u001b[39mself\u001b[39;49m\u001b[39m.\u001b[39;49m_validate_output(Xs)\n\u001b[1;32m    <a href='file:///home/ubuntu/recommendation/lib/python3.8/site-packages/sklearn/compose/_column_transformer.py?line=711'>712</a>\u001b[0m \u001b[39mself\u001b[39m\u001b[39m.\u001b[39m_record_output_indices(Xs)\n\u001b[1;32m    <a href='file:///home/ubuntu/recommendation/lib/python3.8/site-packages/sklearn/compose/_column_transformer.py?line=713'>714</a>\u001b[0m \u001b[39mreturn\u001b[39;00m \u001b[39mself\u001b[39m\u001b[39m.\u001b[39m_hstack(\u001b[39mlist\u001b[39m(Xs))\n",
      "File \u001b[0;32m~/recommendation/lib/python3.8/site-packages/sklearn/compose/_column_transformer.py:575\u001b[0m, in \u001b[0;36mColumnTransformer._validate_output\u001b[0;34m(self, result)\u001b[0m\n\u001b[1;32m    <a href='file:///home/ubuntu/recommendation/lib/python3.8/site-packages/sklearn/compose/_column_transformer.py?line=572'>573</a>\u001b[0m \u001b[39mfor\u001b[39;00m Xs, name \u001b[39min\u001b[39;00m \u001b[39mzip\u001b[39m(result, names):\n\u001b[1;32m    <a href='file:///home/ubuntu/recommendation/lib/python3.8/site-packages/sklearn/compose/_column_transformer.py?line=573'>574</a>\u001b[0m     \u001b[39mif\u001b[39;00m \u001b[39mnot\u001b[39;00m \u001b[39mgetattr\u001b[39m(Xs, \u001b[39m\"\u001b[39m\u001b[39mndim\u001b[39m\u001b[39m\"\u001b[39m, \u001b[39m0\u001b[39m) \u001b[39m==\u001b[39m \u001b[39m2\u001b[39m:\n\u001b[0;32m--> <a href='file:///home/ubuntu/recommendation/lib/python3.8/site-packages/sklearn/compose/_column_transformer.py?line=574'>575</a>\u001b[0m         \u001b[39mraise\u001b[39;00m \u001b[39mValueError\u001b[39;00m(\n\u001b[1;32m    <a href='file:///home/ubuntu/recommendation/lib/python3.8/site-packages/sklearn/compose/_column_transformer.py?line=575'>576</a>\u001b[0m             \u001b[39m\"\u001b[39m\u001b[39mThe output of the \u001b[39m\u001b[39m'\u001b[39m\u001b[39m{0}\u001b[39;00m\u001b[39m'\u001b[39m\u001b[39m transformer should be 2D (scipy \u001b[39m\u001b[39m\"\u001b[39m\n\u001b[1;32m    <a href='file:///home/ubuntu/recommendation/lib/python3.8/site-packages/sklearn/compose/_column_transformer.py?line=576'>577</a>\u001b[0m             \u001b[39m\"\u001b[39m\u001b[39mmatrix, array, or pandas DataFrame).\u001b[39m\u001b[39m\"\u001b[39m\u001b[39m.\u001b[39mformat(name)\n\u001b[1;32m    <a href='file:///home/ubuntu/recommendation/lib/python3.8/site-packages/sklearn/compose/_column_transformer.py?line=577'>578</a>\u001b[0m         )\n",
      "\u001b[0;31mValueError\u001b[0m: The output of the 'functiontransformer' transformer should be 2D (scipy matrix, array, or pandas DataFrame)."
     ]
    }
   ],
   "source": [
    "ct.fit_transform(X_train)"
   ]
  },
  {
   "cell_type": "code",
   "execution_count": 107,
   "metadata": {},
   "outputs": [
    {
     "ename": "TypeError",
     "evalue": "float() argument must be a string or a number, not 'builtin_function_or_method'",
     "output_type": "error",
     "traceback": [
      "\u001b[0;31m---------------------------------------------------------------------------\u001b[0m",
      "\u001b[0;31mTypeError\u001b[0m                                 Traceback (most recent call last)",
      "\u001b[1;32m/home/ubuntu/Recommendation-Ranking-System/classifier.ipynb Cell 10'\u001b[0m in \u001b[0;36m<cell line: 1>\u001b[0;34m()\u001b[0m\n\u001b[0;32m----> <a href='vscode-notebook-cell://ssh-remote%2Baws-server/home/ubuntu/Recommendation-Ranking-System/classifier.ipynb#ch0000019vscode-remote?line=0'>1</a>\u001b[0m aaa \u001b[39m=\u001b[39m flatten_array(X_train)\n",
      "\u001b[1;32m/home/ubuntu/Recommendation-Ranking-System/classifier.ipynb Cell 6'\u001b[0m in \u001b[0;36mflatten_array\u001b[0;34m(df)\u001b[0m\n\u001b[1;32m      <a href='vscode-notebook-cell://ssh-remote%2Baws-server/home/ubuntu/Recommendation-Ranking-System/classifier.ipynb#ch0000020vscode-remote?line=1'>2</a>\u001b[0m new_arr \u001b[39m=\u001b[39m np\u001b[39m.\u001b[39mzeros(df\u001b[39m.\u001b[39mvalues\u001b[39m.\u001b[39mshape)\n\u001b[1;32m      <a href='vscode-notebook-cell://ssh-remote%2Baws-server/home/ubuntu/Recommendation-Ranking-System/classifier.ipynb#ch0000020vscode-remote?line=2'>3</a>\u001b[0m \u001b[39mfor\u001b[39;00m i, m \u001b[39min\u001b[39;00m \u001b[39menumerate\u001b[39m(df\u001b[39m.\u001b[39mvalues):\n\u001b[1;32m      <a href='vscode-notebook-cell://ssh-remote%2Baws-server/home/ubuntu/Recommendation-Ranking-System/classifier.ipynb#ch0000020vscode-remote?line=3'>4</a>\u001b[0m     \u001b[39m#np.append(new_arr, i.flatten())\u001b[39;00m\n\u001b[0;32m----> <a href='vscode-notebook-cell://ssh-remote%2Baws-server/home/ubuntu/Recommendation-Ranking-System/classifier.ipynb#ch0000020vscode-remote?line=4'>5</a>\u001b[0m     new_arr[i] \u001b[39m=\u001b[39m m\u001b[39m.\u001b[39mflatten\n\u001b[1;32m      <a href='vscode-notebook-cell://ssh-remote%2Baws-server/home/ubuntu/Recommendation-Ranking-System/classifier.ipynb#ch0000020vscode-remote?line=5'>6</a>\u001b[0m \u001b[39mreturn\u001b[39;00m new_arr\n",
      "\u001b[0;31mTypeError\u001b[0m: float() argument must be a string or a number, not 'builtin_function_or_method'"
     ]
    }
   ],
   "source": [
    "aaa = flatten_array(X_train)"
   ]
  },
  {
   "cell_type": "code",
   "execution_count": 105,
   "metadata": {},
   "outputs": [
    {
     "data": {
      "text/plain": [
       "array([6.91607027e-310])"
      ]
     },
     "execution_count": 105,
     "metadata": {},
     "output_type": "execute_result"
    }
   ],
   "source": [
    "aaa[0]"
   ]
  },
  {
   "cell_type": "code",
   "execution_count": 19,
   "metadata": {},
   "outputs": [],
   "source": [
    "# make pipeline of transformers and classifier\n",
    "pipe = make_pipeline(ct, clf)"
   ]
  },
  {
   "cell_type": "code",
   "execution_count": 22,
   "metadata": {},
   "outputs": [
    {
     "ename": "ValueError",
     "evalue": "setting an array element with a sequence.",
     "output_type": "error",
     "traceback": [
      "\u001b[0;31m---------------------------------------------------------------------------\u001b[0m",
      "\u001b[0;31mTypeError\u001b[0m                                 Traceback (most recent call last)",
      "\u001b[0;31mTypeError\u001b[0m: only size-1 arrays can be converted to Python scalars",
      "\nThe above exception was the direct cause of the following exception:\n",
      "\u001b[0;31mValueError\u001b[0m                                Traceback (most recent call last)",
      "\u001b[1;32m/home/ubuntu/Recommendation-Ranking-System/classifier.ipynb Cell 7'\u001b[0m in \u001b[0;36m<cell line: 2>\u001b[0;34m()\u001b[0m\n\u001b[1;32m      <a href='vscode-notebook-cell://ssh-remote%2Baws-server/home/ubuntu/Recommendation-Ranking-System/classifier.ipynb#ch0000003vscode-remote?line=0'>1</a>\u001b[0m \u001b[39m# train the classifier\u001b[39;00m\n\u001b[0;32m----> <a href='vscode-notebook-cell://ssh-remote%2Baws-server/home/ubuntu/Recommendation-Ranking-System/classifier.ipynb#ch0000003vscode-remote?line=1'>2</a>\u001b[0m pipe\u001b[39m.\u001b[39;49mfit(X_train, y_train)\n",
      "File \u001b[0;32m~/recommendation/lib/python3.8/site-packages/sklearn/pipeline.py:382\u001b[0m, in \u001b[0;36mPipeline.fit\u001b[0;34m(self, X, y, **fit_params)\u001b[0m\n\u001b[1;32m    <a href='file:///home/ubuntu/recommendation/lib/python3.8/site-packages/sklearn/pipeline.py?line=379'>380</a>\u001b[0m     \u001b[39mif\u001b[39;00m \u001b[39mself\u001b[39m\u001b[39m.\u001b[39m_final_estimator \u001b[39m!=\u001b[39m \u001b[39m\"\u001b[39m\u001b[39mpassthrough\u001b[39m\u001b[39m\"\u001b[39m:\n\u001b[1;32m    <a href='file:///home/ubuntu/recommendation/lib/python3.8/site-packages/sklearn/pipeline.py?line=380'>381</a>\u001b[0m         fit_params_last_step \u001b[39m=\u001b[39m fit_params_steps[\u001b[39mself\u001b[39m\u001b[39m.\u001b[39msteps[\u001b[39m-\u001b[39m\u001b[39m1\u001b[39m][\u001b[39m0\u001b[39m]]\n\u001b[0;32m--> <a href='file:///home/ubuntu/recommendation/lib/python3.8/site-packages/sklearn/pipeline.py?line=381'>382</a>\u001b[0m         \u001b[39mself\u001b[39;49m\u001b[39m.\u001b[39;49m_final_estimator\u001b[39m.\u001b[39;49mfit(Xt, y, \u001b[39m*\u001b[39;49m\u001b[39m*\u001b[39;49mfit_params_last_step)\n\u001b[1;32m    <a href='file:///home/ubuntu/recommendation/lib/python3.8/site-packages/sklearn/pipeline.py?line=383'>384</a>\u001b[0m \u001b[39mreturn\u001b[39;00m \u001b[39mself\u001b[39m\n",
      "File \u001b[0;32m~/recommendation/lib/python3.8/site-packages/sklearn/ensemble/_forest.py:331\u001b[0m, in \u001b[0;36mBaseForest.fit\u001b[0;34m(self, X, y, sample_weight)\u001b[0m\n\u001b[1;32m    <a href='file:///home/ubuntu/recommendation/lib/python3.8/site-packages/sklearn/ensemble/_forest.py?line=328'>329</a>\u001b[0m \u001b[39mif\u001b[39;00m issparse(y):\n\u001b[1;32m    <a href='file:///home/ubuntu/recommendation/lib/python3.8/site-packages/sklearn/ensemble/_forest.py?line=329'>330</a>\u001b[0m     \u001b[39mraise\u001b[39;00m \u001b[39mValueError\u001b[39;00m(\u001b[39m\"\u001b[39m\u001b[39msparse multilabel-indicator for y is not supported.\u001b[39m\u001b[39m\"\u001b[39m)\n\u001b[0;32m--> <a href='file:///home/ubuntu/recommendation/lib/python3.8/site-packages/sklearn/ensemble/_forest.py?line=330'>331</a>\u001b[0m X, y \u001b[39m=\u001b[39m \u001b[39mself\u001b[39;49m\u001b[39m.\u001b[39;49m_validate_data(\n\u001b[1;32m    <a href='file:///home/ubuntu/recommendation/lib/python3.8/site-packages/sklearn/ensemble/_forest.py?line=331'>332</a>\u001b[0m     X, y, multi_output\u001b[39m=\u001b[39;49m\u001b[39mTrue\u001b[39;49;00m, accept_sparse\u001b[39m=\u001b[39;49m\u001b[39m\"\u001b[39;49m\u001b[39mcsc\u001b[39;49m\u001b[39m\"\u001b[39;49m, dtype\u001b[39m=\u001b[39;49mDTYPE\n\u001b[1;32m    <a href='file:///home/ubuntu/recommendation/lib/python3.8/site-packages/sklearn/ensemble/_forest.py?line=332'>333</a>\u001b[0m )\n\u001b[1;32m    <a href='file:///home/ubuntu/recommendation/lib/python3.8/site-packages/sklearn/ensemble/_forest.py?line=333'>334</a>\u001b[0m \u001b[39mif\u001b[39;00m sample_weight \u001b[39mis\u001b[39;00m \u001b[39mnot\u001b[39;00m \u001b[39mNone\u001b[39;00m:\n\u001b[1;32m    <a href='file:///home/ubuntu/recommendation/lib/python3.8/site-packages/sklearn/ensemble/_forest.py?line=334'>335</a>\u001b[0m     sample_weight \u001b[39m=\u001b[39m _check_sample_weight(sample_weight, X)\n",
      "File \u001b[0;32m~/recommendation/lib/python3.8/site-packages/sklearn/base.py:596\u001b[0m, in \u001b[0;36mBaseEstimator._validate_data\u001b[0;34m(self, X, y, reset, validate_separately, **check_params)\u001b[0m\n\u001b[1;32m    <a href='file:///home/ubuntu/recommendation/lib/python3.8/site-packages/sklearn/base.py?line=593'>594</a>\u001b[0m         y \u001b[39m=\u001b[39m check_array(y, input_name\u001b[39m=\u001b[39m\u001b[39m\"\u001b[39m\u001b[39my\u001b[39m\u001b[39m\"\u001b[39m, \u001b[39m*\u001b[39m\u001b[39m*\u001b[39mcheck_y_params)\n\u001b[1;32m    <a href='file:///home/ubuntu/recommendation/lib/python3.8/site-packages/sklearn/base.py?line=594'>595</a>\u001b[0m     \u001b[39melse\u001b[39;00m:\n\u001b[0;32m--> <a href='file:///home/ubuntu/recommendation/lib/python3.8/site-packages/sklearn/base.py?line=595'>596</a>\u001b[0m         X, y \u001b[39m=\u001b[39m check_X_y(X, y, \u001b[39m*\u001b[39;49m\u001b[39m*\u001b[39;49mcheck_params)\n\u001b[1;32m    <a href='file:///home/ubuntu/recommendation/lib/python3.8/site-packages/sklearn/base.py?line=596'>597</a>\u001b[0m     out \u001b[39m=\u001b[39m X, y\n\u001b[1;32m    <a href='file:///home/ubuntu/recommendation/lib/python3.8/site-packages/sklearn/base.py?line=598'>599</a>\u001b[0m \u001b[39mif\u001b[39;00m \u001b[39mnot\u001b[39;00m no_val_X \u001b[39mand\u001b[39;00m check_params\u001b[39m.\u001b[39mget(\u001b[39m\"\u001b[39m\u001b[39mensure_2d\u001b[39m\u001b[39m\"\u001b[39m, \u001b[39mTrue\u001b[39;00m):\n",
      "File \u001b[0;32m~/recommendation/lib/python3.8/site-packages/sklearn/utils/validation.py:1074\u001b[0m, in \u001b[0;36mcheck_X_y\u001b[0;34m(X, y, accept_sparse, accept_large_sparse, dtype, order, copy, force_all_finite, ensure_2d, allow_nd, multi_output, ensure_min_samples, ensure_min_features, y_numeric, estimator)\u001b[0m\n\u001b[1;32m   <a href='file:///home/ubuntu/recommendation/lib/python3.8/site-packages/sklearn/utils/validation.py?line=1068'>1069</a>\u001b[0m         estimator_name \u001b[39m=\u001b[39m _check_estimator_name(estimator)\n\u001b[1;32m   <a href='file:///home/ubuntu/recommendation/lib/python3.8/site-packages/sklearn/utils/validation.py?line=1069'>1070</a>\u001b[0m     \u001b[39mraise\u001b[39;00m \u001b[39mValueError\u001b[39;00m(\n\u001b[1;32m   <a href='file:///home/ubuntu/recommendation/lib/python3.8/site-packages/sklearn/utils/validation.py?line=1070'>1071</a>\u001b[0m         \u001b[39mf\u001b[39m\u001b[39m\"\u001b[39m\u001b[39m{\u001b[39;00mestimator_name\u001b[39m}\u001b[39;00m\u001b[39m requires y to be passed, but the target y is None\u001b[39m\u001b[39m\"\u001b[39m\n\u001b[1;32m   <a href='file:///home/ubuntu/recommendation/lib/python3.8/site-packages/sklearn/utils/validation.py?line=1071'>1072</a>\u001b[0m     )\n\u001b[0;32m-> <a href='file:///home/ubuntu/recommendation/lib/python3.8/site-packages/sklearn/utils/validation.py?line=1073'>1074</a>\u001b[0m X \u001b[39m=\u001b[39m check_array(\n\u001b[1;32m   <a href='file:///home/ubuntu/recommendation/lib/python3.8/site-packages/sklearn/utils/validation.py?line=1074'>1075</a>\u001b[0m     X,\n\u001b[1;32m   <a href='file:///home/ubuntu/recommendation/lib/python3.8/site-packages/sklearn/utils/validation.py?line=1075'>1076</a>\u001b[0m     accept_sparse\u001b[39m=\u001b[39;49maccept_sparse,\n\u001b[1;32m   <a href='file:///home/ubuntu/recommendation/lib/python3.8/site-packages/sklearn/utils/validation.py?line=1076'>1077</a>\u001b[0m     accept_large_sparse\u001b[39m=\u001b[39;49maccept_large_sparse,\n\u001b[1;32m   <a href='file:///home/ubuntu/recommendation/lib/python3.8/site-packages/sklearn/utils/validation.py?line=1077'>1078</a>\u001b[0m     dtype\u001b[39m=\u001b[39;49mdtype,\n\u001b[1;32m   <a href='file:///home/ubuntu/recommendation/lib/python3.8/site-packages/sklearn/utils/validation.py?line=1078'>1079</a>\u001b[0m     order\u001b[39m=\u001b[39;49morder,\n\u001b[1;32m   <a href='file:///home/ubuntu/recommendation/lib/python3.8/site-packages/sklearn/utils/validation.py?line=1079'>1080</a>\u001b[0m     copy\u001b[39m=\u001b[39;49mcopy,\n\u001b[1;32m   <a href='file:///home/ubuntu/recommendation/lib/python3.8/site-packages/sklearn/utils/validation.py?line=1080'>1081</a>\u001b[0m     force_all_finite\u001b[39m=\u001b[39;49mforce_all_finite,\n\u001b[1;32m   <a href='file:///home/ubuntu/recommendation/lib/python3.8/site-packages/sklearn/utils/validation.py?line=1081'>1082</a>\u001b[0m     ensure_2d\u001b[39m=\u001b[39;49mensure_2d,\n\u001b[1;32m   <a href='file:///home/ubuntu/recommendation/lib/python3.8/site-packages/sklearn/utils/validation.py?line=1082'>1083</a>\u001b[0m     allow_nd\u001b[39m=\u001b[39;49mallow_nd,\n\u001b[1;32m   <a href='file:///home/ubuntu/recommendation/lib/python3.8/site-packages/sklearn/utils/validation.py?line=1083'>1084</a>\u001b[0m     ensure_min_samples\u001b[39m=\u001b[39;49mensure_min_samples,\n\u001b[1;32m   <a href='file:///home/ubuntu/recommendation/lib/python3.8/site-packages/sklearn/utils/validation.py?line=1084'>1085</a>\u001b[0m     ensure_min_features\u001b[39m=\u001b[39;49mensure_min_features,\n\u001b[1;32m   <a href='file:///home/ubuntu/recommendation/lib/python3.8/site-packages/sklearn/utils/validation.py?line=1085'>1086</a>\u001b[0m     estimator\u001b[39m=\u001b[39;49mestimator,\n\u001b[1;32m   <a href='file:///home/ubuntu/recommendation/lib/python3.8/site-packages/sklearn/utils/validation.py?line=1086'>1087</a>\u001b[0m     input_name\u001b[39m=\u001b[39;49m\u001b[39m\"\u001b[39;49m\u001b[39mX\u001b[39;49m\u001b[39m\"\u001b[39;49m,\n\u001b[1;32m   <a href='file:///home/ubuntu/recommendation/lib/python3.8/site-packages/sklearn/utils/validation.py?line=1087'>1088</a>\u001b[0m )\n\u001b[1;32m   <a href='file:///home/ubuntu/recommendation/lib/python3.8/site-packages/sklearn/utils/validation.py?line=1089'>1090</a>\u001b[0m y \u001b[39m=\u001b[39m _check_y(y, multi_output\u001b[39m=\u001b[39mmulti_output, y_numeric\u001b[39m=\u001b[39my_numeric, estimator\u001b[39m=\u001b[39mestimator)\n\u001b[1;32m   <a href='file:///home/ubuntu/recommendation/lib/python3.8/site-packages/sklearn/utils/validation.py?line=1091'>1092</a>\u001b[0m check_consistent_length(X, y)\n",
      "File \u001b[0;32m~/recommendation/lib/python3.8/site-packages/sklearn/utils/validation.py:856\u001b[0m, in \u001b[0;36mcheck_array\u001b[0;34m(array, accept_sparse, accept_large_sparse, dtype, order, copy, force_all_finite, ensure_2d, allow_nd, ensure_min_samples, ensure_min_features, estimator, input_name)\u001b[0m\n\u001b[1;32m    <a href='file:///home/ubuntu/recommendation/lib/python3.8/site-packages/sklearn/utils/validation.py?line=853'>854</a>\u001b[0m         array \u001b[39m=\u001b[39m array\u001b[39m.\u001b[39mastype(dtype, casting\u001b[39m=\u001b[39m\u001b[39m\"\u001b[39m\u001b[39munsafe\u001b[39m\u001b[39m\"\u001b[39m, copy\u001b[39m=\u001b[39m\u001b[39mFalse\u001b[39;00m)\n\u001b[1;32m    <a href='file:///home/ubuntu/recommendation/lib/python3.8/site-packages/sklearn/utils/validation.py?line=854'>855</a>\u001b[0m     \u001b[39melse\u001b[39;00m:\n\u001b[0;32m--> <a href='file:///home/ubuntu/recommendation/lib/python3.8/site-packages/sklearn/utils/validation.py?line=855'>856</a>\u001b[0m         array \u001b[39m=\u001b[39m np\u001b[39m.\u001b[39;49masarray(array, order\u001b[39m=\u001b[39;49morder, dtype\u001b[39m=\u001b[39;49mdtype)\n\u001b[1;32m    <a href='file:///home/ubuntu/recommendation/lib/python3.8/site-packages/sklearn/utils/validation.py?line=856'>857</a>\u001b[0m \u001b[39mexcept\u001b[39;00m ComplexWarning \u001b[39mas\u001b[39;00m complex_warning:\n\u001b[1;32m    <a href='file:///home/ubuntu/recommendation/lib/python3.8/site-packages/sklearn/utils/validation.py?line=857'>858</a>\u001b[0m     \u001b[39mraise\u001b[39;00m \u001b[39mValueError\u001b[39;00m(\n\u001b[1;32m    <a href='file:///home/ubuntu/recommendation/lib/python3.8/site-packages/sklearn/utils/validation.py?line=858'>859</a>\u001b[0m         \u001b[39m\"\u001b[39m\u001b[39mComplex data not supported\u001b[39m\u001b[39m\\n\u001b[39;00m\u001b[39m{}\u001b[39;00m\u001b[39m\\n\u001b[39;00m\u001b[39m\"\u001b[39m\u001b[39m.\u001b[39mformat(array)\n\u001b[1;32m    <a href='file:///home/ubuntu/recommendation/lib/python3.8/site-packages/sklearn/utils/validation.py?line=859'>860</a>\u001b[0m     ) \u001b[39mfrom\u001b[39;00m \u001b[39mcomplex_warning\u001b[39;00m\n",
      "\u001b[0;31mValueError\u001b[0m: setting an array element with a sequence."
     ]
    }
   ],
   "source": [
    "# train the classifier\n",
    "pipe.fit(X_train, y_train)"
   ]
  },
  {
   "cell_type": "code",
   "execution_count": 7,
   "metadata": {},
   "outputs": [
    {
     "data": {
      "text/plain": [
       "array([144, 120,  82, ...,   0,   0,   0], dtype=uint8)"
      ]
     },
     "execution_count": 7,
     "metadata": {},
     "output_type": "execute_result"
    }
   ],
   "source": [
    "flatten_array(X[0])"
   ]
  },
  {
   "cell_type": "code",
   "execution_count": 15,
   "metadata": {},
   "outputs": [
    {
     "data": {
      "text/plain": [
       "array([144, 120,  82, ...,   0,   0,   0], dtype=uint8)"
      ]
     },
     "execution_count": 15,
     "metadata": {},
     "output_type": "execute_result"
    }
   ],
   "source": [
    "X.iloc[0].ravel()"
   ]
  },
  {
   "cell_type": "code",
   "execution_count": 9,
   "metadata": {},
   "outputs": [
    {
     "data": {
      "text/plain": [
       "numpy.ndarray"
      ]
     },
     "execution_count": 9,
     "metadata": {},
     "output_type": "execute_result"
    }
   ],
   "source": [
    "type(X_train[0])"
   ]
  },
  {
   "cell_type": "code",
   "execution_count": 19,
   "metadata": {},
   "outputs": [],
   "source": [
    "def flatten_array(arr):\n",
    "    return arr.values.flatten()"
   ]
  },
  {
   "cell_type": "code",
   "execution_count": 20,
   "metadata": {},
   "outputs": [
    {
     "data": {
      "text/plain": [
       "array([1, 2, 3])"
      ]
     },
     "execution_count": 20,
     "metadata": {},
     "output_type": "execute_result"
    }
   ],
   "source": [
    "aaa = pd.Series([1, 2, 3])\n",
    "flatten_array(aaa)"
   ]
  },
  {
   "cell_type": "code",
   "execution_count": 24,
   "metadata": {},
   "outputs": [
    {
     "data": {
      "text/plain": [
       "(7772,)"
      ]
     },
     "execution_count": 24,
     "metadata": {},
     "output_type": "execute_result"
    }
   ],
   "source": [
    "(ft.fit_transform(X_train)).shape"
   ]
  },
  {
   "cell_type": "code",
   "execution_count": 95,
   "metadata": {},
   "outputs": [
    {
     "data": {
      "text/plain": [
       "array([array([[[190, 157, 140],\n",
       "               [208, 177, 157],\n",
       "               [206, 182, 158],\n",
       "               ...,\n",
       "               [  0,   0,   0],\n",
       "               [  0,   0,   0],\n",
       "               [  0,   0,   0]],\n",
       "\n",
       "              [[207, 177, 166],\n",
       "               [197, 169, 155],\n",
       "               [182, 161, 142],\n",
       "               ...,\n",
       "               [  0,   0,   0],\n",
       "               [  0,   0,   0],\n",
       "               [  0,   0,   0]],\n",
       "\n",
       "              [[188, 164, 162],\n",
       "               [192, 171, 166],\n",
       "               [191, 174, 164],\n",
       "               ...,\n",
       "               [  0,   0,   0],\n",
       "               [  0,   0,   0],\n",
       "               [  0,   0,   0]],\n",
       "\n",
       "              ...,\n",
       "\n",
       "              [[162, 145, 129],\n",
       "               [164, 147, 129],\n",
       "               [161, 143, 123],\n",
       "               ...,\n",
       "               [  0,   0,   0],\n",
       "               [  0,   0,   0],\n",
       "               [  0,   0,   0]],\n",
       "\n",
       "              [[154, 132, 111],\n",
       "               [153, 131, 108],\n",
       "               [150, 126, 102],\n",
       "               ...,\n",
       "               [  0,   0,   0],\n",
       "               [  0,   0,   0],\n",
       "               [  0,   0,   0]],\n",
       "\n",
       "              [[145, 121,  97],\n",
       "               [147, 123,  99],\n",
       "               [149, 123,  98],\n",
       "               ...,\n",
       "               [  0,   0,   0],\n",
       "               [  0,   0,   0],\n",
       "               [  0,   0,   0]]], dtype=uint8),\n",
       "       array([[[20, 18, 21],\n",
       "               [18, 16, 19],\n",
       "               [18, 16, 19],\n",
       "               ...,\n",
       "               [23, 19, 16],\n",
       "               [21, 17, 14],\n",
       "               [22, 18, 15]],\n",
       "\n",
       "              [[21, 19, 22],\n",
       "               [19, 17, 20],\n",
       "               [19, 17, 20],\n",
       "               ...,\n",
       "               [23, 19, 16],\n",
       "               [19, 15, 12],\n",
       "               [18, 14, 11]],\n",
       "\n",
       "              [[17, 15, 18],\n",
       "               [15, 13, 16],\n",
       "               [17, 15, 18],\n",
       "               ...,\n",
       "               [26, 25, 23],\n",
       "               [19, 18, 16],\n",
       "               [17, 16, 14]],\n",
       "\n",
       "              ...,\n",
       "\n",
       "              [[ 0,  0,  0],\n",
       "               [ 0,  0,  0],\n",
       "               [ 0,  0,  0],\n",
       "               ...,\n",
       "               [ 0,  0,  0],\n",
       "               [ 0,  0,  0],\n",
       "               [ 0,  0,  0]],\n",
       "\n",
       "              [[ 0,  0,  0],\n",
       "               [ 0,  0,  0],\n",
       "               [ 0,  0,  0],\n",
       "               ...,\n",
       "               [ 0,  0,  0],\n",
       "               [ 0,  0,  0],\n",
       "               [ 0,  0,  0]],\n",
       "\n",
       "              [[ 0,  0,  0],\n",
       "               [ 0,  0,  0],\n",
       "               [ 0,  0,  0],\n",
       "               ...,\n",
       "               [ 0,  0,  0],\n",
       "               [ 0,  0,  0],\n",
       "               [ 0,  0,  0]]], dtype=uint8)], dtype=object)"
      ]
     },
     "execution_count": 95,
     "metadata": {},
     "output_type": "execute_result"
    }
   ],
   "source": [
    "X_train.values.squeeze()[0:2]"
   ]
  },
  {
   "cell_type": "code",
   "execution_count": 53,
   "metadata": {},
   "outputs": [
    {
     "data": {
      "text/plain": [
       "array([190, 157, 140, ...,   0,   0,   0], dtype=uint8)"
      ]
     },
     "execution_count": 53,
     "metadata": {},
     "output_type": "execute_result"
    }
   ],
   "source": [
    "X_train.values[0].flatten()"
   ]
  },
  {
   "cell_type": "code",
   "execution_count": null,
   "metadata": {},
   "outputs": [],
   "source": [
    "lambda x: x.flatten"
   ]
  }
 ],
 "metadata": {
  "interpreter": {
   "hash": "109d57801647564d0dfe2deab53127a41db6da85ea6f753afa884355a0a95922"
  },
  "kernelspec": {
   "display_name": "Python 3.8.10 ('recommendation')",
   "language": "python",
   "name": "python3"
  },
  "language_info": {
   "codemirror_mode": {
    "name": "ipython",
    "version": 3
   },
   "file_extension": ".py",
   "mimetype": "text/x-python",
   "name": "python",
   "nbconvert_exporter": "python",
   "pygments_lexer": "ipython3",
   "version": "3.8.10"
  },
  "orig_nbformat": 4
 },
 "nbformat": 4,
 "nbformat_minor": 2
}
